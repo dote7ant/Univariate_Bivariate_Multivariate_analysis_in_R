{
  "nbformat": 4,
  "nbformat_minor": 0,
  "metadata": {
    "colab": {
      "name": "R_Analysis.ipynb",
      "provenance": [],
      "authorship_tag": "ABX9TyMaaL2k6OsMHPSufhp4w6I5",
      "include_colab_link": true
    },
    "kernelspec": {
      "name": "ir",
      "display_name": "R"
    }
  },
  "cells": [
    {
      "cell_type": "markdown",
      "metadata": {
        "id": "view-in-github",
        "colab_type": "text"
      },
      "source": [
        "<a href=\"https://colab.research.google.com/github/dote7ant/Univariate_Bivariate_Multivariate_analysis_in_R/blob/master/R_Analysis.ipynb\" target=\"_parent\"><img src=\"https://colab.research.google.com/assets/colab-badge.svg\" alt=\"Open In Colab\"/></a>"
      ]
    },
    {
      "cell_type": "markdown",
      "metadata": {
        "id": "QgqLAfsF86NC",
        "colab_type": "text"
      },
      "source": [
        "# what its about "
      ]
    },
    {
      "cell_type": "markdown",
      "metadata": {
        "id": "h8W3qpsn_vNl",
        "colab_type": "text"
      },
      "source": [
        "## Introduction"
      ]
    },
    {
      "cell_type": "markdown",
      "metadata": {
        "id": "MQZ5nGU-_zHP",
        "colab_type": "text"
      },
      "source": [
        "## 1. Reading the data and importing required libraries"
      ]
    },
    {
      "cell_type": "code",
      "metadata": {
        "id": "LY2CoixGLiCG",
        "colab_type": "code",
        "colab": {
          "base_uri": "https://localhost:8080/",
          "height": 104
        },
        "outputId": "49756d88-12dd-4ed5-eb02-4a8ef72ab96f"
      },
      "source": [
        "# install ggplot\n",
        "install.packages(\"ggplot2\")\n",
        "require(ggplot2)"
      ],
      "execution_count": 25,
      "outputs": [
        {
          "output_type": "stream",
          "text": [
            "Installing package into ‘/usr/local/lib/R/site-library’\n",
            "(as ‘lib’ is unspecified)\n",
            "\n",
            "Loading required package: ggplot2\n",
            "\n"
          ],
          "name": "stderr"
        }
      ]
    },
    {
      "cell_type": "code",
      "metadata": {
        "id": "KD0E3iTX8vWN",
        "colab_type": "code",
        "colab": {
          "base_uri": "https://localhost:8080/",
          "height": 416
        },
        "outputId": "81e3c90f-41c2-43c4-d9eb-bb607594b459"
      },
      "source": [
        "# install data table\n",
        "install.packages(\"data.table\")\n",
        "require(data.table)\n",
        "\n",
        "# load the data set \n",
        "url = \"http://bit.ly/IPAdvertisingData\"\n",
        "df <- fread(url)\n",
        "\n",
        "# preview the data set \n",
        "head(df)"
      ],
      "execution_count": 1,
      "outputs": [
        {
          "output_type": "stream",
          "text": [
            "Installing package into ‘/usr/local/lib/R/site-library’\n",
            "(as ‘lib’ is unspecified)\n",
            "\n",
            "Loading required package: data.table\n",
            "\n"
          ],
          "name": "stderr"
        },
        {
          "output_type": "display_data",
          "data": {
            "text/plain": [
              "  Daily Time Spent on Site Age Area Income Daily Internet Usage\n",
              "1 68.95                    35  61833.90    256.09              \n",
              "2 80.23                    31  68441.85    193.77              \n",
              "3 69.47                    26  59785.94    236.50              \n",
              "4 74.15                    29  54806.18    245.89              \n",
              "5 68.37                    35  73889.99    225.58              \n",
              "6 59.99                    23  59761.56    226.74              \n",
              "  Ad Topic Line                         City           Male Country   \n",
              "1 Cloned 5thgeneration orchestration    Wrightburgh    0    Tunisia   \n",
              "2 Monitored national standardization    West Jodi      1    Nauru     \n",
              "3 Organic bottom-line service-desk      Davidton       0    San Marino\n",
              "4 Triple-buffered reciprocal time-frame West Terrifurt 1    Italy     \n",
              "5 Robust logistical utilization         South Manuel   0    Iceland   \n",
              "6 Sharable client-driven software       Jamieberg      1    Norway    \n",
              "  Timestamp           Clicked on Ad\n",
              "1 2016-03-27 00:53:11 0            \n",
              "2 2016-04-04 01:39:02 0            \n",
              "3 2016-03-13 20:35:42 0            \n",
              "4 2016-01-10 02:31:19 0            \n",
              "5 2016-06-03 03:36:18 0            \n",
              "6 2016-05-19 14:30:17 0            "
            ],
            "text/latex": "A data.table: 6 × 10\n\\begin{tabular}{llllllllll}\n Daily Time Spent on Site & Age & Area Income & Daily Internet Usage & Ad Topic Line & City & Male & Country & Timestamp & Clicked on Ad\\\\\n <dbl> & <int> & <dbl> & <dbl> & <chr> & <chr> & <int> & <chr> & <chr> & <int>\\\\\n\\hline\n\t 68.95 & 35 & 61833.90 & 256.09 & Cloned 5thgeneration orchestration    & Wrightburgh    & 0 & Tunisia    & 2016-03-27 00:53:11 & 0\\\\\n\t 80.23 & 31 & 68441.85 & 193.77 & Monitored national standardization    & West Jodi      & 1 & Nauru      & 2016-04-04 01:39:02 & 0\\\\\n\t 69.47 & 26 & 59785.94 & 236.50 & Organic bottom-line service-desk      & Davidton       & 0 & San Marino & 2016-03-13 20:35:42 & 0\\\\\n\t 74.15 & 29 & 54806.18 & 245.89 & Triple-buffered reciprocal time-frame & West Terrifurt & 1 & Italy      & 2016-01-10 02:31:19 & 0\\\\\n\t 68.37 & 35 & 73889.99 & 225.58 & Robust logistical utilization         & South Manuel   & 0 & Iceland    & 2016-06-03 03:36:18 & 0\\\\\n\t 59.99 & 23 & 59761.56 & 226.74 & Sharable client-driven software       & Jamieberg      & 1 & Norway     & 2016-05-19 14:30:17 & 0\\\\\n\\end{tabular}\n",
            "text/markdown": "\nA data.table: 6 × 10\n\n| Daily Time Spent on Site &lt;dbl&gt; | Age &lt;int&gt; | Area Income &lt;dbl&gt; | Daily Internet Usage &lt;dbl&gt; | Ad Topic Line &lt;chr&gt; | City &lt;chr&gt; | Male &lt;int&gt; | Country &lt;chr&gt; | Timestamp &lt;chr&gt; | Clicked on Ad &lt;int&gt; |\n|---|---|---|---|---|---|---|---|---|---|\n| 68.95 | 35 | 61833.90 | 256.09 | Cloned 5thgeneration orchestration    | Wrightburgh    | 0 | Tunisia    | 2016-03-27 00:53:11 | 0 |\n| 80.23 | 31 | 68441.85 | 193.77 | Monitored national standardization    | West Jodi      | 1 | Nauru      | 2016-04-04 01:39:02 | 0 |\n| 69.47 | 26 | 59785.94 | 236.50 | Organic bottom-line service-desk      | Davidton       | 0 | San Marino | 2016-03-13 20:35:42 | 0 |\n| 74.15 | 29 | 54806.18 | 245.89 | Triple-buffered reciprocal time-frame | West Terrifurt | 1 | Italy      | 2016-01-10 02:31:19 | 0 |\n| 68.37 | 35 | 73889.99 | 225.58 | Robust logistical utilization         | South Manuel   | 0 | Iceland    | 2016-06-03 03:36:18 | 0 |\n| 59.99 | 23 | 59761.56 | 226.74 | Sharable client-driven software       | Jamieberg      | 1 | Norway     | 2016-05-19 14:30:17 | 0 |\n\n",
            "text/html": [
              "<table>\n",
              "<caption>A data.table: 6 × 10</caption>\n",
              "<thead>\n",
              "\t<tr><th scope=col>Daily Time Spent on Site</th><th scope=col>Age</th><th scope=col>Area Income</th><th scope=col>Daily Internet Usage</th><th scope=col>Ad Topic Line</th><th scope=col>City</th><th scope=col>Male</th><th scope=col>Country</th><th scope=col>Timestamp</th><th scope=col>Clicked on Ad</th></tr>\n",
              "\t<tr><th scope=col>&lt;dbl&gt;</th><th scope=col>&lt;int&gt;</th><th scope=col>&lt;dbl&gt;</th><th scope=col>&lt;dbl&gt;</th><th scope=col>&lt;chr&gt;</th><th scope=col>&lt;chr&gt;</th><th scope=col>&lt;int&gt;</th><th scope=col>&lt;chr&gt;</th><th scope=col>&lt;chr&gt;</th><th scope=col>&lt;int&gt;</th></tr>\n",
              "</thead>\n",
              "<tbody>\n",
              "\t<tr><td>68.95</td><td>35</td><td>61833.90</td><td>256.09</td><td>Cloned 5thgeneration orchestration   </td><td>Wrightburgh   </td><td>0</td><td>Tunisia   </td><td>2016-03-27 00:53:11</td><td>0</td></tr>\n",
              "\t<tr><td>80.23</td><td>31</td><td>68441.85</td><td>193.77</td><td>Monitored national standardization   </td><td>West Jodi     </td><td>1</td><td>Nauru     </td><td>2016-04-04 01:39:02</td><td>0</td></tr>\n",
              "\t<tr><td>69.47</td><td>26</td><td>59785.94</td><td>236.50</td><td>Organic bottom-line service-desk     </td><td>Davidton      </td><td>0</td><td>San Marino</td><td>2016-03-13 20:35:42</td><td>0</td></tr>\n",
              "\t<tr><td>74.15</td><td>29</td><td>54806.18</td><td>245.89</td><td>Triple-buffered reciprocal time-frame</td><td>West Terrifurt</td><td>1</td><td>Italy     </td><td>2016-01-10 02:31:19</td><td>0</td></tr>\n",
              "\t<tr><td>68.37</td><td>35</td><td>73889.99</td><td>225.58</td><td>Robust logistical utilization        </td><td>South Manuel  </td><td>0</td><td>Iceland   </td><td>2016-06-03 03:36:18</td><td>0</td></tr>\n",
              "\t<tr><td>59.99</td><td>23</td><td>59761.56</td><td>226.74</td><td>Sharable client-driven software      </td><td>Jamieberg     </td><td>1</td><td>Norway    </td><td>2016-05-19 14:30:17</td><td>0</td></tr>\n",
              "</tbody>\n",
              "</table>\n"
            ]
          },
          "metadata": {
            "tags": []
          }
        }
      ]
    },
    {
      "cell_type": "markdown",
      "metadata": {
        "id": "iWz1pIJ-94h9",
        "colab_type": "text"
      },
      "source": [
        "## 2. Check the data "
      ]
    },
    {
      "cell_type": "code",
      "metadata": {
        "id": "bFDhmYtLBAFC",
        "colab_type": "code",
        "colab": {
          "base_uri": "https://localhost:8080/",
          "height": 290
        },
        "outputId": "50a2879a-e25f-4fba-9c85-5f5de736b3b2"
      },
      "source": [
        "# find the first 5 rows\n",
        "head(df, 5)"
      ],
      "execution_count": 2,
      "outputs": [
        {
          "output_type": "display_data",
          "data": {
            "text/plain": [
              "  Daily Time Spent on Site Age Area Income Daily Internet Usage\n",
              "1 68.95                    35  61833.90    256.09              \n",
              "2 80.23                    31  68441.85    193.77              \n",
              "3 69.47                    26  59785.94    236.50              \n",
              "4 74.15                    29  54806.18    245.89              \n",
              "5 68.37                    35  73889.99    225.58              \n",
              "  Ad Topic Line                         City           Male Country   \n",
              "1 Cloned 5thgeneration orchestration    Wrightburgh    0    Tunisia   \n",
              "2 Monitored national standardization    West Jodi      1    Nauru     \n",
              "3 Organic bottom-line service-desk      Davidton       0    San Marino\n",
              "4 Triple-buffered reciprocal time-frame West Terrifurt 1    Italy     \n",
              "5 Robust logistical utilization         South Manuel   0    Iceland   \n",
              "  Timestamp           Clicked on Ad\n",
              "1 2016-03-27 00:53:11 0            \n",
              "2 2016-04-04 01:39:02 0            \n",
              "3 2016-03-13 20:35:42 0            \n",
              "4 2016-01-10 02:31:19 0            \n",
              "5 2016-06-03 03:36:18 0            "
            ],
            "text/latex": "A data.table: 5 × 10\n\\begin{tabular}{llllllllll}\n Daily Time Spent on Site & Age & Area Income & Daily Internet Usage & Ad Topic Line & City & Male & Country & Timestamp & Clicked on Ad\\\\\n <dbl> & <int> & <dbl> & <dbl> & <chr> & <chr> & <int> & <chr> & <chr> & <int>\\\\\n\\hline\n\t 68.95 & 35 & 61833.90 & 256.09 & Cloned 5thgeneration orchestration    & Wrightburgh    & 0 & Tunisia    & 2016-03-27 00:53:11 & 0\\\\\n\t 80.23 & 31 & 68441.85 & 193.77 & Monitored national standardization    & West Jodi      & 1 & Nauru      & 2016-04-04 01:39:02 & 0\\\\\n\t 69.47 & 26 & 59785.94 & 236.50 & Organic bottom-line service-desk      & Davidton       & 0 & San Marino & 2016-03-13 20:35:42 & 0\\\\\n\t 74.15 & 29 & 54806.18 & 245.89 & Triple-buffered reciprocal time-frame & West Terrifurt & 1 & Italy      & 2016-01-10 02:31:19 & 0\\\\\n\t 68.37 & 35 & 73889.99 & 225.58 & Robust logistical utilization         & South Manuel   & 0 & Iceland    & 2016-06-03 03:36:18 & 0\\\\\n\\end{tabular}\n",
            "text/markdown": "\nA data.table: 5 × 10\n\n| Daily Time Spent on Site &lt;dbl&gt; | Age &lt;int&gt; | Area Income &lt;dbl&gt; | Daily Internet Usage &lt;dbl&gt; | Ad Topic Line &lt;chr&gt; | City &lt;chr&gt; | Male &lt;int&gt; | Country &lt;chr&gt; | Timestamp &lt;chr&gt; | Clicked on Ad &lt;int&gt; |\n|---|---|---|---|---|---|---|---|---|---|\n| 68.95 | 35 | 61833.90 | 256.09 | Cloned 5thgeneration orchestration    | Wrightburgh    | 0 | Tunisia    | 2016-03-27 00:53:11 | 0 |\n| 80.23 | 31 | 68441.85 | 193.77 | Monitored national standardization    | West Jodi      | 1 | Nauru      | 2016-04-04 01:39:02 | 0 |\n| 69.47 | 26 | 59785.94 | 236.50 | Organic bottom-line service-desk      | Davidton       | 0 | San Marino | 2016-03-13 20:35:42 | 0 |\n| 74.15 | 29 | 54806.18 | 245.89 | Triple-buffered reciprocal time-frame | West Terrifurt | 1 | Italy      | 2016-01-10 02:31:19 | 0 |\n| 68.37 | 35 | 73889.99 | 225.58 | Robust logistical utilization         | South Manuel   | 0 | Iceland    | 2016-06-03 03:36:18 | 0 |\n\n",
            "text/html": [
              "<table>\n",
              "<caption>A data.table: 5 × 10</caption>\n",
              "<thead>\n",
              "\t<tr><th scope=col>Daily Time Spent on Site</th><th scope=col>Age</th><th scope=col>Area Income</th><th scope=col>Daily Internet Usage</th><th scope=col>Ad Topic Line</th><th scope=col>City</th><th scope=col>Male</th><th scope=col>Country</th><th scope=col>Timestamp</th><th scope=col>Clicked on Ad</th></tr>\n",
              "\t<tr><th scope=col>&lt;dbl&gt;</th><th scope=col>&lt;int&gt;</th><th scope=col>&lt;dbl&gt;</th><th scope=col>&lt;dbl&gt;</th><th scope=col>&lt;chr&gt;</th><th scope=col>&lt;chr&gt;</th><th scope=col>&lt;int&gt;</th><th scope=col>&lt;chr&gt;</th><th scope=col>&lt;chr&gt;</th><th scope=col>&lt;int&gt;</th></tr>\n",
              "</thead>\n",
              "<tbody>\n",
              "\t<tr><td>68.95</td><td>35</td><td>61833.90</td><td>256.09</td><td>Cloned 5thgeneration orchestration   </td><td>Wrightburgh   </td><td>0</td><td>Tunisia   </td><td>2016-03-27 00:53:11</td><td>0</td></tr>\n",
              "\t<tr><td>80.23</td><td>31</td><td>68441.85</td><td>193.77</td><td>Monitored national standardization   </td><td>West Jodi     </td><td>1</td><td>Nauru     </td><td>2016-04-04 01:39:02</td><td>0</td></tr>\n",
              "\t<tr><td>69.47</td><td>26</td><td>59785.94</td><td>236.50</td><td>Organic bottom-line service-desk     </td><td>Davidton      </td><td>0</td><td>San Marino</td><td>2016-03-13 20:35:42</td><td>0</td></tr>\n",
              "\t<tr><td>74.15</td><td>29</td><td>54806.18</td><td>245.89</td><td>Triple-buffered reciprocal time-frame</td><td>West Terrifurt</td><td>1</td><td>Italy     </td><td>2016-01-10 02:31:19</td><td>0</td></tr>\n",
              "\t<tr><td>68.37</td><td>35</td><td>73889.99</td><td>225.58</td><td>Robust logistical utilization        </td><td>South Manuel  </td><td>0</td><td>Iceland   </td><td>2016-06-03 03:36:18</td><td>0</td></tr>\n",
              "</tbody>\n",
              "</table>\n"
            ]
          },
          "metadata": {
            "tags": []
          }
        }
      ]
    },
    {
      "cell_type": "code",
      "metadata": {
        "id": "39Nhl8BrBDOq",
        "colab_type": "code",
        "colab": {
          "base_uri": "https://localhost:8080/",
          "height": 290
        },
        "outputId": "8ed88322-96c8-4d51-b5e8-8836037f10f1"
      },
      "source": [
        "# check the last 5 rows\n",
        "tail(df, 5)"
      ],
      "execution_count": 3,
      "outputs": [
        {
          "output_type": "display_data",
          "data": {
            "text/plain": [
              "  Daily Time Spent on Site Age Area Income Daily Internet Usage\n",
              "1 72.97                    30  71384.57    208.58              \n",
              "2 51.30                    45  67782.17    134.42              \n",
              "3 51.63                    51  42415.72    120.37              \n",
              "4 55.55                    19  41920.79    187.95              \n",
              "5 45.01                    26  29875.80    178.35              \n",
              "  Ad Topic Line                        City          Male\n",
              "1 Fundamental modular algorithm        Duffystad     1   \n",
              "2 Grass-roots cohesive monitoring      New Darlene   1   \n",
              "3 Expanded intangible solution         South Jessica 1   \n",
              "4 Proactive bandwidth-monitored policy West Steven   0   \n",
              "5 Virtual 5thgeneration emulation      Ronniemouth   0   \n",
              "  Country                Timestamp           Clicked on Ad\n",
              "1 Lebanon                2016-02-11 21:49:00 1            \n",
              "2 Bosnia and Herzegovina 2016-04-22 02:07:01 1            \n",
              "3 Mongolia               2016-02-01 17:24:57 1            \n",
              "4 Guatemala              2016-03-24 02:35:54 0            \n",
              "5 Brazil                 2016-06-03 21:43:21 1            "
            ],
            "text/latex": "A data.table: 5 × 10\n\\begin{tabular}{llllllllll}\n Daily Time Spent on Site & Age & Area Income & Daily Internet Usage & Ad Topic Line & City & Male & Country & Timestamp & Clicked on Ad\\\\\n <dbl> & <int> & <dbl> & <dbl> & <chr> & <chr> & <int> & <chr> & <chr> & <int>\\\\\n\\hline\n\t 72.97 & 30 & 71384.57 & 208.58 & Fundamental modular algorithm        & Duffystad     & 1 & Lebanon                & 2016-02-11 21:49:00 & 1\\\\\n\t 51.30 & 45 & 67782.17 & 134.42 & Grass-roots cohesive monitoring      & New Darlene   & 1 & Bosnia and Herzegovina & 2016-04-22 02:07:01 & 1\\\\\n\t 51.63 & 51 & 42415.72 & 120.37 & Expanded intangible solution         & South Jessica & 1 & Mongolia               & 2016-02-01 17:24:57 & 1\\\\\n\t 55.55 & 19 & 41920.79 & 187.95 & Proactive bandwidth-monitored policy & West Steven   & 0 & Guatemala              & 2016-03-24 02:35:54 & 0\\\\\n\t 45.01 & 26 & 29875.80 & 178.35 & Virtual 5thgeneration emulation      & Ronniemouth   & 0 & Brazil                 & 2016-06-03 21:43:21 & 1\\\\\n\\end{tabular}\n",
            "text/markdown": "\nA data.table: 5 × 10\n\n| Daily Time Spent on Site &lt;dbl&gt; | Age &lt;int&gt; | Area Income &lt;dbl&gt; | Daily Internet Usage &lt;dbl&gt; | Ad Topic Line &lt;chr&gt; | City &lt;chr&gt; | Male &lt;int&gt; | Country &lt;chr&gt; | Timestamp &lt;chr&gt; | Clicked on Ad &lt;int&gt; |\n|---|---|---|---|---|---|---|---|---|---|\n| 72.97 | 30 | 71384.57 | 208.58 | Fundamental modular algorithm        | Duffystad     | 1 | Lebanon                | 2016-02-11 21:49:00 | 1 |\n| 51.30 | 45 | 67782.17 | 134.42 | Grass-roots cohesive monitoring      | New Darlene   | 1 | Bosnia and Herzegovina | 2016-04-22 02:07:01 | 1 |\n| 51.63 | 51 | 42415.72 | 120.37 | Expanded intangible solution         | South Jessica | 1 | Mongolia               | 2016-02-01 17:24:57 | 1 |\n| 55.55 | 19 | 41920.79 | 187.95 | Proactive bandwidth-monitored policy | West Steven   | 0 | Guatemala              | 2016-03-24 02:35:54 | 0 |\n| 45.01 | 26 | 29875.80 | 178.35 | Virtual 5thgeneration emulation      | Ronniemouth   | 0 | Brazil                 | 2016-06-03 21:43:21 | 1 |\n\n",
            "text/html": [
              "<table>\n",
              "<caption>A data.table: 5 × 10</caption>\n",
              "<thead>\n",
              "\t<tr><th scope=col>Daily Time Spent on Site</th><th scope=col>Age</th><th scope=col>Area Income</th><th scope=col>Daily Internet Usage</th><th scope=col>Ad Topic Line</th><th scope=col>City</th><th scope=col>Male</th><th scope=col>Country</th><th scope=col>Timestamp</th><th scope=col>Clicked on Ad</th></tr>\n",
              "\t<tr><th scope=col>&lt;dbl&gt;</th><th scope=col>&lt;int&gt;</th><th scope=col>&lt;dbl&gt;</th><th scope=col>&lt;dbl&gt;</th><th scope=col>&lt;chr&gt;</th><th scope=col>&lt;chr&gt;</th><th scope=col>&lt;int&gt;</th><th scope=col>&lt;chr&gt;</th><th scope=col>&lt;chr&gt;</th><th scope=col>&lt;int&gt;</th></tr>\n",
              "</thead>\n",
              "<tbody>\n",
              "\t<tr><td>72.97</td><td>30</td><td>71384.57</td><td>208.58</td><td>Fundamental modular algorithm       </td><td>Duffystad    </td><td>1</td><td>Lebanon               </td><td>2016-02-11 21:49:00</td><td>1</td></tr>\n",
              "\t<tr><td>51.30</td><td>45</td><td>67782.17</td><td>134.42</td><td>Grass-roots cohesive monitoring     </td><td>New Darlene  </td><td>1</td><td>Bosnia and Herzegovina</td><td>2016-04-22 02:07:01</td><td>1</td></tr>\n",
              "\t<tr><td>51.63</td><td>51</td><td>42415.72</td><td>120.37</td><td>Expanded intangible solution        </td><td>South Jessica</td><td>1</td><td>Mongolia              </td><td>2016-02-01 17:24:57</td><td>1</td></tr>\n",
              "\t<tr><td>55.55</td><td>19</td><td>41920.79</td><td>187.95</td><td>Proactive bandwidth-monitored policy</td><td>West Steven  </td><td>0</td><td>Guatemala             </td><td>2016-03-24 02:35:54</td><td>0</td></tr>\n",
              "\t<tr><td>45.01</td><td>26</td><td>29875.80</td><td>178.35</td><td>Virtual 5thgeneration emulation     </td><td>Ronniemouth  </td><td>0</td><td>Brazil                </td><td>2016-06-03 21:43:21</td><td>1</td></tr>\n",
              "</tbody>\n",
              "</table>\n"
            ]
          },
          "metadata": {
            "tags": []
          }
        }
      ]
    },
    {
      "cell_type": "markdown",
      "metadata": {
        "id": "mDN9F6uTBTXr",
        "colab_type": "text"
      },
      "source": [
        "We observe that from the head and tail of the dataset that we can see the time spent on the site, topic within the blog, city, gender, country, date, age and the area income for a particular area. And we see whether an ad was clicked or not."
      ]
    },
    {
      "cell_type": "code",
      "metadata": {
        "id": "19xIZPs1CQ-C",
        "colab_type": "code",
        "colab": {
          "base_uri": "https://localhost:8080/",
          "height": 104
        },
        "outputId": "2598b0e7-a9b1-4a15-cc01-1b2508b46dba"
      },
      "source": [
        "# find the column names\n",
        "print(names(df))"
      ],
      "execution_count": 4,
      "outputs": [
        {
          "output_type": "stream",
          "text": [
            " [1] \"Daily Time Spent on Site\" \"Age\"                     \n",
            " [3] \"Area Income\"              \"Daily Internet Usage\"    \n",
            " [5] \"Ad Topic Line\"            \"City\"                    \n",
            " [7] \"Male\"                     \"Country\"                 \n",
            " [9] \"Timestamp\"                \"Clicked on Ad\"           \n"
          ],
          "name": "stdout"
        }
      ]
    },
    {
      "cell_type": "markdown",
      "metadata": {
        "id": "iQKVDShSDEsS",
        "colab_type": "text"
      },
      "source": [
        "We will want to remove the spaces between the column names shown above and have them be lower case"
      ]
    },
    {
      "cell_type": "code",
      "metadata": {
        "id": "tJM1vADZ95w7",
        "colab_type": "code",
        "colab": {
          "base_uri": "https://localhost:8080/",
          "height": 34
        },
        "outputId": "9c431cc6-74cf-48ee-b7b4-9d613b51ebb9"
      },
      "source": [
        "# check type of data set\n",
        "class(df)"
      ],
      "execution_count": 5,
      "outputs": [
        {
          "output_type": "display_data",
          "data": {
            "text/plain": [
              "[1] \"data.table\" \"data.frame\""
            ],
            "text/latex": "\\begin{enumerate*}\n\\item 'data.table'\n\\item 'data.frame'\n\\end{enumerate*}\n",
            "text/markdown": "1. 'data.table'\n2. 'data.frame'\n\n\n",
            "text/html": [
              "<style>\n",
              ".list-inline {list-style: none; margin:0; padding: 0}\n",
              ".list-inline>li {display: inline-block}\n",
              ".list-inline>li:not(:last-child)::after {content: \"\\00b7\"; padding: 0 .5ex}\n",
              "</style>\n",
              "<ol class=list-inline><li>'data.table'</li><li>'data.frame'</li></ol>\n"
            ]
          },
          "metadata": {
            "tags": []
          }
        }
      ]
    },
    {
      "cell_type": "code",
      "metadata": {
        "id": "RJ-hsgWpCKDF",
        "colab_type": "code",
        "colab": {
          "base_uri": "https://localhost:8080/",
          "height": 245
        },
        "outputId": "8a6128b2-ec66-437b-9f90-bc0742a30052"
      },
      "source": [
        "# find the column data types \n",
        "str(df)"
      ],
      "execution_count": 6,
      "outputs": [
        {
          "output_type": "stream",
          "text": [
            "Classes ‘data.table’ and 'data.frame':\t1000 obs. of  10 variables:\n",
            " $ Daily Time Spent on Site: num  69 80.2 69.5 74.2 68.4 ...\n",
            " $ Age                     : int  35 31 26 29 35 23 33 48 30 20 ...\n",
            " $ Area Income             : num  61834 68442 59786 54806 73890 ...\n",
            " $ Daily Internet Usage    : num  256 194 236 246 226 ...\n",
            " $ Ad Topic Line           : chr  \"Cloned 5thgeneration orchestration\" \"Monitored national standardization\" \"Organic bottom-line service-desk\" \"Triple-buffered reciprocal time-frame\" ...\n",
            " $ City                    : chr  \"Wrightburgh\" \"West Jodi\" \"Davidton\" \"West Terrifurt\" ...\n",
            " $ Male                    : int  0 1 0 1 0 1 0 1 1 1 ...\n",
            " $ Country                 : chr  \"Tunisia\" \"Nauru\" \"San Marino\" \"Italy\" ...\n",
            " $ Timestamp               : chr  \"2016-03-27 00:53:11\" \"2016-04-04 01:39:02\" \"2016-03-13 20:35:42\" \"2016-01-10 02:31:19\" ...\n",
            " $ Clicked on Ad           : int  0 0 0 0 0 0 0 1 0 0 ...\n",
            " - attr(*, \".internal.selfref\")=<externalptr> \n"
          ],
          "name": "stdout"
        }
      ]
    },
    {
      "cell_type": "markdown",
      "metadata": {
        "id": "W5JDcmqkEXeJ",
        "colab_type": "text"
      },
      "source": [
        "Most of the columns are numeric with 4 of them being non numeric."
      ]
    },
    {
      "cell_type": "code",
      "metadata": {
        "id": "xu6iQTGYDlNS",
        "colab_type": "code",
        "colab": {
          "base_uri": "https://localhost:8080/",
          "height": 34
        },
        "outputId": "3cdedfca-267e-4401-d07c-99d9e839298e"
      },
      "source": [
        "# find out how many rows and columns are present in the data set\n",
        "dim(df)"
      ],
      "execution_count": 8,
      "outputs": [
        {
          "output_type": "display_data",
          "data": {
            "text/plain": [
              "[1] 1000   10"
            ],
            "text/latex": "\\begin{enumerate*}\n\\item 1000\n\\item 10\n\\end{enumerate*}\n",
            "text/markdown": "1. 1000\n2. 10\n\n\n",
            "text/html": [
              "<style>\n",
              ".list-inline {list-style: none; margin:0; padding: 0}\n",
              ".list-inline>li {display: inline-block}\n",
              ".list-inline>li:not(:last-child)::after {content: \"\\00b7\"; padding: 0 .5ex}\n",
              "</style>\n",
              "<ol class=list-inline><li>1000</li><li>10</li></ol>\n"
            ]
          },
          "metadata": {
            "tags": []
          }
        }
      ]
    },
    {
      "cell_type": "markdown",
      "metadata": {
        "id": "1VGZ4ZuQERP5",
        "colab_type": "text"
      },
      "source": [
        "There are 1000 rows and 10 columns"
      ]
    },
    {
      "cell_type": "code",
      "metadata": {
        "id": "Q1Ct6vANEnWX",
        "colab_type": "code",
        "colab": {
          "base_uri": "https://localhost:8080/",
          "height": 34
        },
        "outputId": "364b7cb4-8f8e-4fe4-ed67-3d73cb11e001"
      },
      "source": [
        "# check if there are any duplicates\n",
        "anyDuplicated(df)"
      ],
      "execution_count": 12,
      "outputs": [
        {
          "output_type": "display_data",
          "data": {
            "text/plain": [
              "[1] 0"
            ],
            "text/latex": "0",
            "text/markdown": "0",
            "text/html": [
              "0"
            ]
          },
          "metadata": {
            "tags": []
          }
        }
      ]
    },
    {
      "cell_type": "markdown",
      "metadata": {
        "id": "KrC3yXCfGpeW",
        "colab_type": "text"
      },
      "source": [
        "There are no duplicate values"
      ]
    },
    {
      "cell_type": "code",
      "metadata": {
        "id": "Y-0kLkFZEqpN",
        "colab_type": "code",
        "colab": {
          "base_uri": "https://localhost:8080/",
          "height": 52
        },
        "outputId": "4eab455c-8fc0-4f39-bfdd-238766534ef3"
      },
      "source": [
        "# check if there are any missing values\n",
        "colSums(is.na(df))"
      ],
      "execution_count": 14,
      "outputs": [
        {
          "output_type": "display_data",
          "data": {
            "text/plain": [
              "Daily Time Spent on Site                      Age              Area Income \n",
              "                       0                        0                        0 \n",
              "    Daily Internet Usage            Ad Topic Line                     City \n",
              "                       0                        0                        0 \n",
              "                    Male                  Country                Timestamp \n",
              "                       0                        0                        0 \n",
              "           Clicked on Ad \n",
              "                       0 "
            ],
            "text/latex": "\\begin{description*}\n\\item[Daily Time Spent on Site] 0\n\\item[Age] 0\n\\item[Area Income] 0\n\\item[Daily Internet Usage] 0\n\\item[Ad Topic Line] 0\n\\item[City] 0\n\\item[Male] 0\n\\item[Country] 0\n\\item[Timestamp] 0\n\\item[Clicked on Ad] 0\n\\end{description*}\n",
            "text/markdown": "Daily Time Spent on Site\n:   0Age\n:   0Area Income\n:   0Daily Internet Usage\n:   0Ad Topic Line\n:   0City\n:   0Male\n:   0Country\n:   0Timestamp\n:   0Clicked on Ad\n:   0\n\n",
            "text/html": [
              "<style>\n",
              ".dl-inline {width: auto; margin:0; padding: 0}\n",
              ".dl-inline>dt, .dl-inline>dd {float: none; width: auto; display: inline-block}\n",
              ".dl-inline>dt::after {content: \":\\0020\"; padding-right: .5ex}\n",
              ".dl-inline>dt:not(:first-of-type) {padding-left: .5ex}\n",
              "</style><dl class=dl-inline><dt>Daily Time Spent on Site</dt><dd>0</dd><dt>Age</dt><dd>0</dd><dt>Area Income</dt><dd>0</dd><dt>Daily Internet Usage</dt><dd>0</dd><dt>Ad Topic Line</dt><dd>0</dd><dt>City</dt><dd>0</dd><dt>Male</dt><dd>0</dd><dt>Country</dt><dd>0</dd><dt>Timestamp</dt><dd>0</dd><dt>Clicked on Ad</dt><dd>0</dd></dl>\n"
            ]
          },
          "metadata": {
            "tags": []
          }
        }
      ]
    },
    {
      "cell_type": "markdown",
      "metadata": {
        "id": "9KizvOYjG0IM",
        "colab_type": "text"
      },
      "source": [
        "No missing values"
      ]
    },
    {
      "cell_type": "markdown",
      "metadata": {
        "id": "mdccDR4A__tC",
        "colab_type": "text"
      },
      "source": [
        "## 3. Tidying up the data"
      ]
    },
    {
      "cell_type": "code",
      "metadata": {
        "id": "9geNdFyM-FwP",
        "colab_type": "code",
        "colab": {
          "base_uri": "https://localhost:8080/",
          "height": 34
        },
        "outputId": "6bfbec5c-2700-4726-bc9a-7f048b791011"
      },
      "source": [
        "# change column names to lower case \n",
        "colnames(df) <- tolower(colnames(df))\n",
        "colnames(df)"
      ],
      "execution_count": 18,
      "outputs": [
        {
          "output_type": "display_data",
          "data": {
            "text/plain": [
              " [1] \"daily time spent on site\" \"age\"                     \n",
              " [3] \"area income\"              \"daily internet usage\"    \n",
              " [5] \"ad topic line\"            \"city\"                    \n",
              " [7] \"male\"                     \"country\"                 \n",
              " [9] \"timestamp\"                \"clicked on ad\"           "
            ],
            "text/latex": "\\begin{enumerate*}\n\\item 'daily time spent on site'\n\\item 'age'\n\\item 'area income'\n\\item 'daily internet usage'\n\\item 'ad topic line'\n\\item 'city'\n\\item 'male'\n\\item 'country'\n\\item 'timestamp'\n\\item 'clicked on ad'\n\\end{enumerate*}\n",
            "text/markdown": "1. 'daily time spent on site'\n2. 'age'\n3. 'area income'\n4. 'daily internet usage'\n5. 'ad topic line'\n6. 'city'\n7. 'male'\n8. 'country'\n9. 'timestamp'\n10. 'clicked on ad'\n\n\n",
            "text/html": [
              "<style>\n",
              ".list-inline {list-style: none; margin:0; padding: 0}\n",
              ".list-inline>li {display: inline-block}\n",
              ".list-inline>li:not(:last-child)::after {content: \"\\00b7\"; padding: 0 .5ex}\n",
              "</style>\n",
              "<ol class=list-inline><li>'daily time spent on site'</li><li>'age'</li><li>'area income'</li><li>'daily internet usage'</li><li>'ad topic line'</li><li>'city'</li><li>'male'</li><li>'country'</li><li>'timestamp'</li><li>'clicked on ad'</li></ol>\n"
            ]
          },
          "metadata": {
            "tags": []
          }
        }
      ]
    },
    {
      "cell_type": "code",
      "metadata": {
        "id": "4NXMAN3M_BqO",
        "colab_type": "code",
        "colab": {}
      },
      "source": [
        "# replace the white space with an underscore\n",
        "colnames(df)  <- sub(\" \", \"_\", colnames(df) )"
      ],
      "execution_count": 49,
      "outputs": []
    },
    {
      "cell_type": "code",
      "metadata": {
        "id": "0vtQZs5i_HTb",
        "colab_type": "code",
        "colab": {
          "base_uri": "https://localhost:8080/",
          "height": 104
        },
        "outputId": "7c07b46e-a3b9-4452-bd4f-8e01e3b7e87e"
      },
      "source": [
        "# confirm the names have been converted \n",
        "print(names(df))"
      ],
      "execution_count": 50,
      "outputs": [
        {
          "output_type": "stream",
          "text": [
            " [1] \"daily_time_spent_on_site\" \"age\"                     \n",
            " [3] \"area_income\"              \"daily_internet_usage\"    \n",
            " [5] \"ad_topic_line\"            \"city\"                    \n",
            " [7] \"male\"                     \"country\"                 \n",
            " [9] \"timestamp\"                \"clicked_on_ad\"           \n"
          ],
          "name": "stdout"
        }
      ]
    },
    {
      "cell_type": "markdown",
      "metadata": {
        "id": "NlxHvahIIaDn",
        "colab_type": "text"
      },
      "source": [
        "Success!!!"
      ]
    },
    {
      "cell_type": "markdown",
      "metadata": {
        "id": "2_4XJS-IIdCl",
        "colab_type": "text"
      },
      "source": [
        "We will now check for outliers and remove them if any. This will be for the numerical columns only."
      ]
    },
    {
      "cell_type": "code",
      "metadata": {
        "id": "JirzjqfcQnAZ",
        "colab_type": "code",
        "colab": {
          "base_uri": "https://localhost:8080/",
          "height": 399
        },
        "outputId": "69b97205-b63f-452a-dbc6-727b918a69c8"
      },
      "source": [
        "install.packages(\"dplyr\")                            # Install dplyr\n",
        "library(\"dplyr\")               "
      ],
      "execution_count": 64,
      "outputs": [
        {
          "output_type": "stream",
          "text": [
            "Installing package into ‘/usr/local/lib/R/site-library’\n",
            "(as ‘lib’ is unspecified)\n",
            "\n",
            "\n",
            "Attaching package: ‘dplyr’\n",
            "\n",
            "\n",
            "The following objects are masked from ‘package:data.table’:\n",
            "\n",
            "    between, first, last\n",
            "\n",
            "\n",
            "The following objects are masked from ‘package:stats’:\n",
            "\n",
            "    filter, lag\n",
            "\n",
            "\n",
            "The following objects are masked from ‘package:base’:\n",
            "\n",
            "    intersect, setdiff, setequal, union\n",
            "\n",
            "\n"
          ],
          "name": "stderr"
        }
      ]
    },
    {
      "cell_type": "code",
      "metadata": {
        "id": "O0f4DixYQq3E",
        "colab_type": "code",
        "colab": {
          "base_uri": "https://localhost:8080/",
          "height": 1000
        },
        "outputId": "f40158e8-1950-4e5f-d6d3-d820f85a17f8"
      },
      "source": [
        "data <- select_if(df, is.numeric)             # Subset numeric columns with dplyr\n",
        "data"
      ],
      "execution_count": 65,
      "outputs": [
        {
          "output_type": "display_data",
          "data": {
            "text/plain": [
              "     daily_time_spent_on_site age area_income daily_internet_usage male\n",
              "1    68.95                    35  61833.90    256.09               0   \n",
              "2    80.23                    31  68441.85    193.77               1   \n",
              "3    69.47                    26  59785.94    236.50               0   \n",
              "4    74.15                    29  54806.18    245.89               1   \n",
              "5    68.37                    35  73889.99    225.58               0   \n",
              "6    59.99                    23  59761.56    226.74               1   \n",
              "7    88.91                    33  53852.85    208.36               0   \n",
              "8    66.00                    48  24593.33    131.76               1   \n",
              "9    74.53                    30  68862.00    221.51               1   \n",
              "10   69.88                    20  55642.32    183.82               1   \n",
              "11   47.64                    49  45632.51    122.02               0   \n",
              "12   83.07                    37  62491.01    230.87               1   \n",
              "13   69.57                    48  51636.92    113.12               1   \n",
              "14   79.52                    24  51739.63    214.23               0   \n",
              "15   42.95                    33  30976.00    143.56               0   \n",
              "16   63.45                    23  52182.23    140.64               1   \n",
              "17   55.39                    37  23936.86    129.41               0   \n",
              "18   82.03                    41  71511.08    187.53               0   \n",
              "19   54.70                    36  31087.54    118.39               1   \n",
              "20   74.58                    40  23821.72    135.51               1   \n",
              "21   77.22                    30  64802.33    224.44               1   \n",
              "22   84.59                    35  60015.57    226.54               1   \n",
              "23   41.49                    52  32635.70    164.83               0   \n",
              "24   87.29                    36  61628.72    209.93               1   \n",
              "25   41.39                    41  68962.32    167.22               0   \n",
              "26   78.74                    28  64828.00    204.79               1   \n",
              "27   48.53                    28  38067.08    134.14               1   \n",
              "28   51.95                    52  58295.82    129.23               0   \n",
              "29   70.20                    34  32708.94    119.20               0   \n",
              "30   76.02                    22  46179.97    209.82               0   \n",
              "⋮    ⋮                        ⋮   ⋮           ⋮                    ⋮   \n",
              "971  40.18                    29  50760.23    151.96               0   \n",
              "972  45.17                    48  34418.09    132.07               1   \n",
              "973  50.48                    50  20592.99    162.43               0   \n",
              "974  80.87                    28  63528.80    203.30               0   \n",
              "975  41.88                    40  44217.68    126.11               1   \n",
              "976  39.87                    48  47929.83    139.34               1   \n",
              "977  61.84                    45  46024.29    105.63               1   \n",
              "978  54.97                    31  51900.03    116.38               1   \n",
              "979  71.40                    30  72188.90    166.31               0   \n",
              "980  70.29                    31  56974.51    254.65               1   \n",
              "981  67.26                    57  25682.65    168.41               1   \n",
              "982  76.58                    46  41884.64    258.26               0   \n",
              "983  54.37                    38  72196.29    140.77               0   \n",
              "984  82.79                    32  54429.17    234.81               1   \n",
              "985  66.47                    31  58037.66    256.39               1   \n",
              "986  72.88                    44  64011.26    125.12               0   \n",
              "987  76.44                    28  59967.19    232.68               1   \n",
              "988  63.37                    43  43155.19    105.04               1   \n",
              "989  89.71                    48  51501.38    204.40               1   \n",
              "990  70.96                    31  55187.85    256.40               0   \n",
              "991  35.79                    44  33813.08    165.62               1   \n",
              "992  38.96                    38  36497.22    140.67               1   \n",
              "993  69.17                    40  66193.81    123.62               0   \n",
              "994  64.20                    27  66200.96    227.63               1   \n",
              "995  43.70                    28  63126.96    173.01               0   \n",
              "996  72.97                    30  71384.57    208.58               1   \n",
              "997  51.30                    45  67782.17    134.42               1   \n",
              "998  51.63                    51  42415.72    120.37               1   \n",
              "999  55.55                    19  41920.79    187.95               0   \n",
              "1000 45.01                    26  29875.80    178.35               0   \n",
              "     clicked_on_ad\n",
              "1    0            \n",
              "2    0            \n",
              "3    0            \n",
              "4    0            \n",
              "5    0            \n",
              "6    0            \n",
              "7    0            \n",
              "8    1            \n",
              "9    0            \n",
              "10   0            \n",
              "11   1            \n",
              "12   0            \n",
              "13   1            \n",
              "14   0            \n",
              "15   1            \n",
              "16   1            \n",
              "17   1            \n",
              "18   0            \n",
              "19   1            \n",
              "20   1            \n",
              "21   0            \n",
              "22   0            \n",
              "23   1            \n",
              "24   0            \n",
              "25   1            \n",
              "26   0            \n",
              "27   1            \n",
              "28   1            \n",
              "29   1            \n",
              "30   0            \n",
              "⋮    ⋮            \n",
              "971  1            \n",
              "972  1            \n",
              "973  1            \n",
              "974  0            \n",
              "975  1            \n",
              "976  1            \n",
              "977  1            \n",
              "978  1            \n",
              "979  0            \n",
              "980  0            \n",
              "981  1            \n",
              "982  0            \n",
              "983  1            \n",
              "984  0            \n",
              "985  0            \n",
              "986  1            \n",
              "987  0            \n",
              "988  1            \n",
              "989  0            \n",
              "990  0            \n",
              "991  1            \n",
              "992  1            \n",
              "993  1            \n",
              "994  0            \n",
              "995  1            \n",
              "996  1            \n",
              "997  1            \n",
              "998  1            \n",
              "999  0            \n",
              "1000 1            "
            ],
            "text/latex": "A data.table: 1000 × 6\n\\begin{tabular}{llllll}\n daily\\_time\\_spent\\_on\\_site & age & area\\_income & daily\\_internet\\_usage & male & clicked\\_on\\_ad\\\\\n <dbl> & <int> & <dbl> & <dbl> & <int> & <int>\\\\\n\\hline\n\t 68.95 & 35 & 61833.90 & 256.09 & 0 & 0\\\\\n\t 80.23 & 31 & 68441.85 & 193.77 & 1 & 0\\\\\n\t 69.47 & 26 & 59785.94 & 236.50 & 0 & 0\\\\\n\t 74.15 & 29 & 54806.18 & 245.89 & 1 & 0\\\\\n\t 68.37 & 35 & 73889.99 & 225.58 & 0 & 0\\\\\n\t 59.99 & 23 & 59761.56 & 226.74 & 1 & 0\\\\\n\t 88.91 & 33 & 53852.85 & 208.36 & 0 & 0\\\\\n\t 66.00 & 48 & 24593.33 & 131.76 & 1 & 1\\\\\n\t 74.53 & 30 & 68862.00 & 221.51 & 1 & 0\\\\\n\t 69.88 & 20 & 55642.32 & 183.82 & 1 & 0\\\\\n\t 47.64 & 49 & 45632.51 & 122.02 & 0 & 1\\\\\n\t 83.07 & 37 & 62491.01 & 230.87 & 1 & 0\\\\\n\t 69.57 & 48 & 51636.92 & 113.12 & 1 & 1\\\\\n\t 79.52 & 24 & 51739.63 & 214.23 & 0 & 0\\\\\n\t 42.95 & 33 & 30976.00 & 143.56 & 0 & 1\\\\\n\t 63.45 & 23 & 52182.23 & 140.64 & 1 & 1\\\\\n\t 55.39 & 37 & 23936.86 & 129.41 & 0 & 1\\\\\n\t 82.03 & 41 & 71511.08 & 187.53 & 0 & 0\\\\\n\t 54.70 & 36 & 31087.54 & 118.39 & 1 & 1\\\\\n\t 74.58 & 40 & 23821.72 & 135.51 & 1 & 1\\\\\n\t 77.22 & 30 & 64802.33 & 224.44 & 1 & 0\\\\\n\t 84.59 & 35 & 60015.57 & 226.54 & 1 & 0\\\\\n\t 41.49 & 52 & 32635.70 & 164.83 & 0 & 1\\\\\n\t 87.29 & 36 & 61628.72 & 209.93 & 1 & 0\\\\\n\t 41.39 & 41 & 68962.32 & 167.22 & 0 & 1\\\\\n\t 78.74 & 28 & 64828.00 & 204.79 & 1 & 0\\\\\n\t 48.53 & 28 & 38067.08 & 134.14 & 1 & 1\\\\\n\t 51.95 & 52 & 58295.82 & 129.23 & 0 & 1\\\\\n\t 70.20 & 34 & 32708.94 & 119.20 & 0 & 1\\\\\n\t 76.02 & 22 & 46179.97 & 209.82 & 0 & 0\\\\\n\t ⋮ & ⋮ & ⋮ & ⋮ & ⋮ & ⋮\\\\\n\t 40.18 & 29 & 50760.23 & 151.96 & 0 & 1\\\\\n\t 45.17 & 48 & 34418.09 & 132.07 & 1 & 1\\\\\n\t 50.48 & 50 & 20592.99 & 162.43 & 0 & 1\\\\\n\t 80.87 & 28 & 63528.80 & 203.30 & 0 & 0\\\\\n\t 41.88 & 40 & 44217.68 & 126.11 & 1 & 1\\\\\n\t 39.87 & 48 & 47929.83 & 139.34 & 1 & 1\\\\\n\t 61.84 & 45 & 46024.29 & 105.63 & 1 & 1\\\\\n\t 54.97 & 31 & 51900.03 & 116.38 & 1 & 1\\\\\n\t 71.40 & 30 & 72188.90 & 166.31 & 0 & 0\\\\\n\t 70.29 & 31 & 56974.51 & 254.65 & 1 & 0\\\\\n\t 67.26 & 57 & 25682.65 & 168.41 & 1 & 1\\\\\n\t 76.58 & 46 & 41884.64 & 258.26 & 0 & 0\\\\\n\t 54.37 & 38 & 72196.29 & 140.77 & 0 & 1\\\\\n\t 82.79 & 32 & 54429.17 & 234.81 & 1 & 0\\\\\n\t 66.47 & 31 & 58037.66 & 256.39 & 1 & 0\\\\\n\t 72.88 & 44 & 64011.26 & 125.12 & 0 & 1\\\\\n\t 76.44 & 28 & 59967.19 & 232.68 & 1 & 0\\\\\n\t 63.37 & 43 & 43155.19 & 105.04 & 1 & 1\\\\\n\t 89.71 & 48 & 51501.38 & 204.40 & 1 & 0\\\\\n\t 70.96 & 31 & 55187.85 & 256.40 & 0 & 0\\\\\n\t 35.79 & 44 & 33813.08 & 165.62 & 1 & 1\\\\\n\t 38.96 & 38 & 36497.22 & 140.67 & 1 & 1\\\\\n\t 69.17 & 40 & 66193.81 & 123.62 & 0 & 1\\\\\n\t 64.20 & 27 & 66200.96 & 227.63 & 1 & 0\\\\\n\t 43.70 & 28 & 63126.96 & 173.01 & 0 & 1\\\\\n\t 72.97 & 30 & 71384.57 & 208.58 & 1 & 1\\\\\n\t 51.30 & 45 & 67782.17 & 134.42 & 1 & 1\\\\\n\t 51.63 & 51 & 42415.72 & 120.37 & 1 & 1\\\\\n\t 55.55 & 19 & 41920.79 & 187.95 & 0 & 0\\\\\n\t 45.01 & 26 & 29875.80 & 178.35 & 0 & 1\\\\\n\\end{tabular}\n",
            "text/markdown": "\nA data.table: 1000 × 6\n\n| daily_time_spent_on_site &lt;dbl&gt; | age &lt;int&gt; | area_income &lt;dbl&gt; | daily_internet_usage &lt;dbl&gt; | male &lt;int&gt; | clicked_on_ad &lt;int&gt; |\n|---|---|---|---|---|---|\n| 68.95 | 35 | 61833.90 | 256.09 | 0 | 0 |\n| 80.23 | 31 | 68441.85 | 193.77 | 1 | 0 |\n| 69.47 | 26 | 59785.94 | 236.50 | 0 | 0 |\n| 74.15 | 29 | 54806.18 | 245.89 | 1 | 0 |\n| 68.37 | 35 | 73889.99 | 225.58 | 0 | 0 |\n| 59.99 | 23 | 59761.56 | 226.74 | 1 | 0 |\n| 88.91 | 33 | 53852.85 | 208.36 | 0 | 0 |\n| 66.00 | 48 | 24593.33 | 131.76 | 1 | 1 |\n| 74.53 | 30 | 68862.00 | 221.51 | 1 | 0 |\n| 69.88 | 20 | 55642.32 | 183.82 | 1 | 0 |\n| 47.64 | 49 | 45632.51 | 122.02 | 0 | 1 |\n| 83.07 | 37 | 62491.01 | 230.87 | 1 | 0 |\n| 69.57 | 48 | 51636.92 | 113.12 | 1 | 1 |\n| 79.52 | 24 | 51739.63 | 214.23 | 0 | 0 |\n| 42.95 | 33 | 30976.00 | 143.56 | 0 | 1 |\n| 63.45 | 23 | 52182.23 | 140.64 | 1 | 1 |\n| 55.39 | 37 | 23936.86 | 129.41 | 0 | 1 |\n| 82.03 | 41 | 71511.08 | 187.53 | 0 | 0 |\n| 54.70 | 36 | 31087.54 | 118.39 | 1 | 1 |\n| 74.58 | 40 | 23821.72 | 135.51 | 1 | 1 |\n| 77.22 | 30 | 64802.33 | 224.44 | 1 | 0 |\n| 84.59 | 35 | 60015.57 | 226.54 | 1 | 0 |\n| 41.49 | 52 | 32635.70 | 164.83 | 0 | 1 |\n| 87.29 | 36 | 61628.72 | 209.93 | 1 | 0 |\n| 41.39 | 41 | 68962.32 | 167.22 | 0 | 1 |\n| 78.74 | 28 | 64828.00 | 204.79 | 1 | 0 |\n| 48.53 | 28 | 38067.08 | 134.14 | 1 | 1 |\n| 51.95 | 52 | 58295.82 | 129.23 | 0 | 1 |\n| 70.20 | 34 | 32708.94 | 119.20 | 0 | 1 |\n| 76.02 | 22 | 46179.97 | 209.82 | 0 | 0 |\n| ⋮ | ⋮ | ⋮ | ⋮ | ⋮ | ⋮ |\n| 40.18 | 29 | 50760.23 | 151.96 | 0 | 1 |\n| 45.17 | 48 | 34418.09 | 132.07 | 1 | 1 |\n| 50.48 | 50 | 20592.99 | 162.43 | 0 | 1 |\n| 80.87 | 28 | 63528.80 | 203.30 | 0 | 0 |\n| 41.88 | 40 | 44217.68 | 126.11 | 1 | 1 |\n| 39.87 | 48 | 47929.83 | 139.34 | 1 | 1 |\n| 61.84 | 45 | 46024.29 | 105.63 | 1 | 1 |\n| 54.97 | 31 | 51900.03 | 116.38 | 1 | 1 |\n| 71.40 | 30 | 72188.90 | 166.31 | 0 | 0 |\n| 70.29 | 31 | 56974.51 | 254.65 | 1 | 0 |\n| 67.26 | 57 | 25682.65 | 168.41 | 1 | 1 |\n| 76.58 | 46 | 41884.64 | 258.26 | 0 | 0 |\n| 54.37 | 38 | 72196.29 | 140.77 | 0 | 1 |\n| 82.79 | 32 | 54429.17 | 234.81 | 1 | 0 |\n| 66.47 | 31 | 58037.66 | 256.39 | 1 | 0 |\n| 72.88 | 44 | 64011.26 | 125.12 | 0 | 1 |\n| 76.44 | 28 | 59967.19 | 232.68 | 1 | 0 |\n| 63.37 | 43 | 43155.19 | 105.04 | 1 | 1 |\n| 89.71 | 48 | 51501.38 | 204.40 | 1 | 0 |\n| 70.96 | 31 | 55187.85 | 256.40 | 0 | 0 |\n| 35.79 | 44 | 33813.08 | 165.62 | 1 | 1 |\n| 38.96 | 38 | 36497.22 | 140.67 | 1 | 1 |\n| 69.17 | 40 | 66193.81 | 123.62 | 0 | 1 |\n| 64.20 | 27 | 66200.96 | 227.63 | 1 | 0 |\n| 43.70 | 28 | 63126.96 | 173.01 | 0 | 1 |\n| 72.97 | 30 | 71384.57 | 208.58 | 1 | 1 |\n| 51.30 | 45 | 67782.17 | 134.42 | 1 | 1 |\n| 51.63 | 51 | 42415.72 | 120.37 | 1 | 1 |\n| 55.55 | 19 | 41920.79 | 187.95 | 0 | 0 |\n| 45.01 | 26 | 29875.80 | 178.35 | 0 | 1 |\n\n",
            "text/html": [
              "<table>\n",
              "<caption>A data.table: 1000 × 6</caption>\n",
              "<thead>\n",
              "\t<tr><th scope=col>daily_time_spent_on_site</th><th scope=col>age</th><th scope=col>area_income</th><th scope=col>daily_internet_usage</th><th scope=col>male</th><th scope=col>clicked_on_ad</th></tr>\n",
              "\t<tr><th scope=col>&lt;dbl&gt;</th><th scope=col>&lt;int&gt;</th><th scope=col>&lt;dbl&gt;</th><th scope=col>&lt;dbl&gt;</th><th scope=col>&lt;int&gt;</th><th scope=col>&lt;int&gt;</th></tr>\n",
              "</thead>\n",
              "<tbody>\n",
              "\t<tr><td>68.95</td><td>35</td><td>61833.90</td><td>256.09</td><td>0</td><td>0</td></tr>\n",
              "\t<tr><td>80.23</td><td>31</td><td>68441.85</td><td>193.77</td><td>1</td><td>0</td></tr>\n",
              "\t<tr><td>69.47</td><td>26</td><td>59785.94</td><td>236.50</td><td>0</td><td>0</td></tr>\n",
              "\t<tr><td>74.15</td><td>29</td><td>54806.18</td><td>245.89</td><td>1</td><td>0</td></tr>\n",
              "\t<tr><td>68.37</td><td>35</td><td>73889.99</td><td>225.58</td><td>0</td><td>0</td></tr>\n",
              "\t<tr><td>59.99</td><td>23</td><td>59761.56</td><td>226.74</td><td>1</td><td>0</td></tr>\n",
              "\t<tr><td>88.91</td><td>33</td><td>53852.85</td><td>208.36</td><td>0</td><td>0</td></tr>\n",
              "\t<tr><td>66.00</td><td>48</td><td>24593.33</td><td>131.76</td><td>1</td><td>1</td></tr>\n",
              "\t<tr><td>74.53</td><td>30</td><td>68862.00</td><td>221.51</td><td>1</td><td>0</td></tr>\n",
              "\t<tr><td>69.88</td><td>20</td><td>55642.32</td><td>183.82</td><td>1</td><td>0</td></tr>\n",
              "\t<tr><td>47.64</td><td>49</td><td>45632.51</td><td>122.02</td><td>0</td><td>1</td></tr>\n",
              "\t<tr><td>83.07</td><td>37</td><td>62491.01</td><td>230.87</td><td>1</td><td>0</td></tr>\n",
              "\t<tr><td>69.57</td><td>48</td><td>51636.92</td><td>113.12</td><td>1</td><td>1</td></tr>\n",
              "\t<tr><td>79.52</td><td>24</td><td>51739.63</td><td>214.23</td><td>0</td><td>0</td></tr>\n",
              "\t<tr><td>42.95</td><td>33</td><td>30976.00</td><td>143.56</td><td>0</td><td>1</td></tr>\n",
              "\t<tr><td>63.45</td><td>23</td><td>52182.23</td><td>140.64</td><td>1</td><td>1</td></tr>\n",
              "\t<tr><td>55.39</td><td>37</td><td>23936.86</td><td>129.41</td><td>0</td><td>1</td></tr>\n",
              "\t<tr><td>82.03</td><td>41</td><td>71511.08</td><td>187.53</td><td>0</td><td>0</td></tr>\n",
              "\t<tr><td>54.70</td><td>36</td><td>31087.54</td><td>118.39</td><td>1</td><td>1</td></tr>\n",
              "\t<tr><td>74.58</td><td>40</td><td>23821.72</td><td>135.51</td><td>1</td><td>1</td></tr>\n",
              "\t<tr><td>77.22</td><td>30</td><td>64802.33</td><td>224.44</td><td>1</td><td>0</td></tr>\n",
              "\t<tr><td>84.59</td><td>35</td><td>60015.57</td><td>226.54</td><td>1</td><td>0</td></tr>\n",
              "\t<tr><td>41.49</td><td>52</td><td>32635.70</td><td>164.83</td><td>0</td><td>1</td></tr>\n",
              "\t<tr><td>87.29</td><td>36</td><td>61628.72</td><td>209.93</td><td>1</td><td>0</td></tr>\n",
              "\t<tr><td>41.39</td><td>41</td><td>68962.32</td><td>167.22</td><td>0</td><td>1</td></tr>\n",
              "\t<tr><td>78.74</td><td>28</td><td>64828.00</td><td>204.79</td><td>1</td><td>0</td></tr>\n",
              "\t<tr><td>48.53</td><td>28</td><td>38067.08</td><td>134.14</td><td>1</td><td>1</td></tr>\n",
              "\t<tr><td>51.95</td><td>52</td><td>58295.82</td><td>129.23</td><td>0</td><td>1</td></tr>\n",
              "\t<tr><td>70.20</td><td>34</td><td>32708.94</td><td>119.20</td><td>0</td><td>1</td></tr>\n",
              "\t<tr><td>76.02</td><td>22</td><td>46179.97</td><td>209.82</td><td>0</td><td>0</td></tr>\n",
              "\t<tr><td>⋮</td><td>⋮</td><td>⋮</td><td>⋮</td><td>⋮</td><td>⋮</td></tr>\n",
              "\t<tr><td>40.18</td><td>29</td><td>50760.23</td><td>151.96</td><td>0</td><td>1</td></tr>\n",
              "\t<tr><td>45.17</td><td>48</td><td>34418.09</td><td>132.07</td><td>1</td><td>1</td></tr>\n",
              "\t<tr><td>50.48</td><td>50</td><td>20592.99</td><td>162.43</td><td>0</td><td>1</td></tr>\n",
              "\t<tr><td>80.87</td><td>28</td><td>63528.80</td><td>203.30</td><td>0</td><td>0</td></tr>\n",
              "\t<tr><td>41.88</td><td>40</td><td>44217.68</td><td>126.11</td><td>1</td><td>1</td></tr>\n",
              "\t<tr><td>39.87</td><td>48</td><td>47929.83</td><td>139.34</td><td>1</td><td>1</td></tr>\n",
              "\t<tr><td>61.84</td><td>45</td><td>46024.29</td><td>105.63</td><td>1</td><td>1</td></tr>\n",
              "\t<tr><td>54.97</td><td>31</td><td>51900.03</td><td>116.38</td><td>1</td><td>1</td></tr>\n",
              "\t<tr><td>71.40</td><td>30</td><td>72188.90</td><td>166.31</td><td>0</td><td>0</td></tr>\n",
              "\t<tr><td>70.29</td><td>31</td><td>56974.51</td><td>254.65</td><td>1</td><td>0</td></tr>\n",
              "\t<tr><td>67.26</td><td>57</td><td>25682.65</td><td>168.41</td><td>1</td><td>1</td></tr>\n",
              "\t<tr><td>76.58</td><td>46</td><td>41884.64</td><td>258.26</td><td>0</td><td>0</td></tr>\n",
              "\t<tr><td>54.37</td><td>38</td><td>72196.29</td><td>140.77</td><td>0</td><td>1</td></tr>\n",
              "\t<tr><td>82.79</td><td>32</td><td>54429.17</td><td>234.81</td><td>1</td><td>0</td></tr>\n",
              "\t<tr><td>66.47</td><td>31</td><td>58037.66</td><td>256.39</td><td>1</td><td>0</td></tr>\n",
              "\t<tr><td>72.88</td><td>44</td><td>64011.26</td><td>125.12</td><td>0</td><td>1</td></tr>\n",
              "\t<tr><td>76.44</td><td>28</td><td>59967.19</td><td>232.68</td><td>1</td><td>0</td></tr>\n",
              "\t<tr><td>63.37</td><td>43</td><td>43155.19</td><td>105.04</td><td>1</td><td>1</td></tr>\n",
              "\t<tr><td>89.71</td><td>48</td><td>51501.38</td><td>204.40</td><td>1</td><td>0</td></tr>\n",
              "\t<tr><td>70.96</td><td>31</td><td>55187.85</td><td>256.40</td><td>0</td><td>0</td></tr>\n",
              "\t<tr><td>35.79</td><td>44</td><td>33813.08</td><td>165.62</td><td>1</td><td>1</td></tr>\n",
              "\t<tr><td>38.96</td><td>38</td><td>36497.22</td><td>140.67</td><td>1</td><td>1</td></tr>\n",
              "\t<tr><td>69.17</td><td>40</td><td>66193.81</td><td>123.62</td><td>0</td><td>1</td></tr>\n",
              "\t<tr><td>64.20</td><td>27</td><td>66200.96</td><td>227.63</td><td>1</td><td>0</td></tr>\n",
              "\t<tr><td>43.70</td><td>28</td><td>63126.96</td><td>173.01</td><td>0</td><td>1</td></tr>\n",
              "\t<tr><td>72.97</td><td>30</td><td>71384.57</td><td>208.58</td><td>1</td><td>1</td></tr>\n",
              "\t<tr><td>51.30</td><td>45</td><td>67782.17</td><td>134.42</td><td>1</td><td>1</td></tr>\n",
              "\t<tr><td>51.63</td><td>51</td><td>42415.72</td><td>120.37</td><td>1</td><td>1</td></tr>\n",
              "\t<tr><td>55.55</td><td>19</td><td>41920.79</td><td>187.95</td><td>0</td><td>0</td></tr>\n",
              "\t<tr><td>45.01</td><td>26</td><td>29875.80</td><td>178.35</td><td>0</td><td>1</td></tr>\n",
              "</tbody>\n",
              "</table>\n"
            ]
          },
          "metadata": {
            "tags": []
          }
        }
      ]
    },
    {
      "cell_type": "code",
      "metadata": {
        "id": "Bu3kn68PUTkU",
        "colab_type": "code",
        "colab": {
          "base_uri": "https://localhost:8080/",
          "height": 847
        },
        "outputId": "9a9f61a5-c7d7-408b-dfd3-8aa9ae2366af"
      },
      "source": [
        "columns = colnames(select(data))\n",
        "\n",
        "for (column in seq(length(colnames(data)))){\n",
        "    boxplot(columns[column])\n",
        "    print(columns[column])\n",
        "   \n",
        "}"
      ],
      "execution_count": 83,
      "outputs": [
        {
          "output_type": "stream",
          "text": [
            "Warning message in min(x):\n",
            "“no non-missing arguments to min; returning Inf”\n",
            "Warning message in max(x):\n",
            "“no non-missing arguments to max; returning -Inf”\n"
          ],
          "name": "stderr"
        },
        {
          "output_type": "error",
          "ename": "ERROR",
          "evalue": "ignored",
          "traceback": [
            "Error in plot.window(xlim = xlim, ylim = ylim, log = log, yaxs = pars$yaxs): need finite 'ylim' values\nTraceback:\n",
            "1. boxplot(columns[column])",
            "2. boxplot.default(columns[column])",
            "3. do.call(\"bxp\", c(list(z, notch = notch, width = width, varwidth = varwidth, \n .     log = log, border = border, pars = pars, outline = outline, \n .     horizontal = horizontal, add = add, ann = ann, at = at), \n .     args[namedargs]))",
            "4. bxp(list(stats = structure(c(NA_real_, NA_real_, NA_real_, NA_real_, \n . NA_real_), .Dim = c(5L, 1L), class = c(`1` = \"character\")), n = 0, \n .     conf = structure(c(NA_real_, NA_real_), .Dim = 2:1), out = numeric(0), \n .     group = numeric(0), names = \"1\"), notch = FALSE, width = NULL, \n .     varwidth = FALSE, log = \"\", border = \"black\", pars = list(\n .         boxwex = 0.8, staplewex = 0.5, outwex = 0.5), outline = TRUE, \n .     horizontal = FALSE, add = FALSE, ann = TRUE, at = NULL)",
            "5. plot.window(xlim = xlim, ylim = ylim, log = log, yaxs = pars$yaxs)"
          ]
        },
        {
          "output_type": "display_data",
          "data": {
            "image/png": "[encoded data removed]",
            "text/plain": [
              "plot without title"
            ]
          },
          "metadata": {
            "tags": [],
            "image/png": {
              "width": 420,
              "height": 420
            }
          }
        }
      ]
    },
    {
      "cell_type": "code",
      "metadata": {
        "id": "ZuKhtAAJL7ju",
        "colab_type": "code",
        "colab": {}
      },
      "source": [
        "# ouliers with ggplot2\n",
        "library(ggplot2)\n",
        "a = ggplot(df, aes(daily_time_spent_on_site, country, col = clicked_on_ad)) + \n",
        "    geom_boxplot() \n"
      ],
      "execution_count": 76,
      "outputs": []
    },
    {
      "cell_type": "code",
      "metadata": {
        "id": "2TEBDVl-R8bi",
        "colab_type": "code",
        "colab": {}
      },
      "source": [
        "a"
      ],
      "execution_count": null,
      "outputs": []
    },
    {
      "cell_type": "code",
      "metadata": {
        "id": "mUNdzX9LOIbK",
        "colab_type": "code",
        "colab": {
          "base_uri": "https://localhost:8080/",
          "height": 17
        },
        "outputId": "70c06655-4a39-437a-82a6-28668c5acf59"
      },
      "source": [
        "# print out the outlier\n",
        "boxplot.stats(df$`daily_time spent on site`)$out"
      ],
      "execution_count": 38,
      "outputs": [
        {
          "output_type": "display_data",
          "data": {
            "text/plain": [
              "numeric(0)"
            ],
            "text/latex": "",
            "text/markdown": "",
            "text/html": [
              ""
            ]
          },
          "metadata": {
            "tags": []
          }
        }
      ]
    },
    {
      "cell_type": "code",
      "metadata": {
        "id": "bxg7IOm4OORG",
        "colab_type": "code",
        "colab": {
          "base_uri": "https://localhost:8080/",
          "height": 17
        },
        "outputId": "9a937730-35ed-4b3d-f319-b8ed58258126"
      },
      "source": [
        "# print out the outlier\n",
        "boxplot.stats(df$`daily_internet usage`)$out"
      ],
      "execution_count": 39,
      "outputs": [
        {
          "output_type": "display_data",
          "data": {
            "text/plain": [
              "numeric(0)"
            ],
            "text/latex": "",
            "text/markdown": "",
            "text/html": [
              ""
            ]
          },
          "metadata": {
            "tags": []
          }
        }
      ]
    },
    {
      "cell_type": "code",
      "metadata": {
        "id": "1G1Yi5-LOUx-",
        "colab_type": "code",
        "colab": {
          "base_uri": "https://localhost:8080/",
          "height": 17
        },
        "outputId": "f406d2bd-182d-4eb2-8c56-ad3dd336aeb5"
      },
      "source": [
        "# print out the outlier\n",
        "boxplot.stats(df$age)$out"
      ],
      "execution_count": 40,
      "outputs": [
        {
          "output_type": "display_data",
          "data": {
            "text/plain": [
              "integer(0)"
            ],
            "text/latex": "",
            "text/markdown": "",
            "text/html": [
              ""
            ]
          },
          "metadata": {
            "tags": []
          }
        }
      ]
    },
    {
      "cell_type": "code",
      "metadata": {
        "id": "AjbUqll7OZMF",
        "colab_type": "code",
        "colab": {
          "base_uri": "https://localhost:8080/",
          "height": 34
        },
        "outputId": "fb1f6ac0-c5c8-4ace-81b0-4b31daec0a7a"
      },
      "source": [
        "# print out the outlier\n",
        "boxplot.stats(df$area_income)$out"
      ],
      "execution_count": 41,
      "outputs": [
        {
          "output_type": "display_data",
          "data": {
            "text/plain": [
              "[1] 17709.98 18819.34 15598.29 15879.10 14548.06 13996.50 14775.50 18368.57"
            ],
            "text/latex": "\\begin{enumerate*}\n\\item 17709.98\n\\item 18819.34\n\\item 15598.29\n\\item 15879.1\n\\item 14548.06\n\\item 13996.5\n\\item 14775.5\n\\item 18368.57\n\\end{enumerate*}\n",
            "text/markdown": "1. 17709.98\n2. 18819.34\n3. 15598.29\n4. 15879.1\n5. 14548.06\n6. 13996.5\n7. 14775.5\n8. 18368.57\n\n\n",
            "text/html": [
              "<style>\n",
              ".list-inline {list-style: none; margin:0; padding: 0}\n",
              ".list-inline>li {display: inline-block}\n",
              ".list-inline>li:not(:last-child)::after {content: \"\\00b7\"; padding: 0 .5ex}\n",
              "</style>\n",
              "<ol class=list-inline><li>17709.98</li><li>18819.34</li><li>15598.29</li><li>15879.1</li><li>14548.06</li><li>13996.5</li><li>14775.5</li><li>18368.57</li></ol>\n"
            ]
          },
          "metadata": {
            "tags": []
          }
        }
      ]
    },
    {
      "cell_type": "code",
      "metadata": {
        "id": "u50pWwBhO75V",
        "colab_type": "code",
        "colab": {}
      },
      "source": [
        "for i in "
      ],
      "execution_count": null,
      "outputs": []
    },
    {
      "cell_type": "markdown",
      "metadata": {
        "id": "lkO7gHhXADtb",
        "colab_type": "text"
      },
      "source": [
        "## 4. Exploratory Data analysis"
      ]
    },
    {
      "cell_type": "markdown",
      "metadata": {
        "id": "Ogg_P05USxZ0",
        "colab_type": "text"
      },
      "source": [
        "### a. Univariate analysis"
      ]
    },
    {
      "cell_type": "code",
      "metadata": {
        "id": "lqI88fP_SudV",
        "colab_type": "code",
        "colab": {
          "base_uri": "https://localhost:8080/",
          "height": 382
        },
        "outputId": "e669edfb-727a-4de3-c5d4-cb1f6c9352ab"
      },
      "source": [
        "# get the summary statistics\n",
        "summary(df)"
      ],
      "execution_count": 86,
      "outputs": [
        {
          "output_type": "display_data",
          "data": {
            "text/plain": [
              " daily_time_spent_on_site      age         area_income    daily_internet_usage\n",
              " Min.   :32.60            Min.   :19.00   Min.   :13996   Min.   :104.8       \n",
              " 1st Qu.:51.36            1st Qu.:29.00   1st Qu.:47032   1st Qu.:138.8       \n",
              " Median :68.22            Median :35.00   Median :57012   Median :183.1       \n",
              " Mean   :65.00            Mean   :36.01   Mean   :55000   Mean   :180.0       \n",
              " 3rd Qu.:78.55            3rd Qu.:42.00   3rd Qu.:65471   3rd Qu.:218.8       \n",
              " Max.   :91.43            Max.   :61.00   Max.   :79485   Max.   :270.0       \n",
              " ad_topic_line          city                male         country         \n",
              " Length:1000        Length:1000        Min.   :0.000   Length:1000       \n",
              " Class :character   Class :character   1st Qu.:0.000   Class :character  \n",
              " Mode  :character   Mode  :character   Median :0.000   Mode  :character  \n",
              "                                       Mean   :0.481                     \n",
              "                                       3rd Qu.:1.000                     \n",
              "                                       Max.   :1.000                     \n",
              "  timestamp         clicked_on_ad\n",
              " Length:1000        Min.   :0.0  \n",
              " Class :character   1st Qu.:0.0  \n",
              " Mode  :character   Median :0.5  \n",
              "                    Mean   :0.5  \n",
              "                    3rd Qu.:1.0  \n",
              "                    Max.   :1.0  "
            ]
          },
          "metadata": {
            "tags": []
          }
        }
      ]
    },
    {
      "cell_type": "markdown",
      "metadata": {
        "id": "HXMl_PPSWNZ1",
        "colab_type": "text"
      },
      "source": [
        "Above we can observe the mean, median, first and third quantiles, minimum number and maximum number. The table below shows the data in a more organized format."
      ]
    },
    {
      "cell_type": "code",
      "metadata": {
        "id": "ybQvz3rKXBha",
        "colab_type": "code",
        "colab": {}
      },
      "source": [
        "# function to get the mode\n",
        "getmode <- function(v) {\n",
        "   uniqv <- unique(v)\n",
        "   uniqv[which.max(tabulate(match(v, uniqv)))]\n",
        "}"
      ],
      "execution_count": 89,
      "outputs": []
    },
    {
      "cell_type": "code",
      "metadata": {
        "id": "g2g5VL9AXFix",
        "colab_type": "code",
        "colab": {
          "base_uri": "https://localhost:8080/",
          "height": 121
        },
        "outputId": "e27ea047-cffa-4189-d3e7-8b09c071ba00"
      },
      "source": [
        "ad_mode <- getmode(df)\n",
        "print(ad_mode)"
      ],
      "execution_count": 91,
      "outputs": [
        {
          "output_type": "stream",
          "text": [
            "   daily_time_spent_on_site age area_income daily_internet_usage\n",
            "1:                    68.95  35     61833.9               256.09\n",
            "                        ad_topic_line        city male country\n",
            "1: Cloned 5thgeneration orchestration Wrightburgh    0 Tunisia\n",
            "             timestamp clicked_on_ad\n",
            "1: 2016-03-27 00:53:11             0\n"
          ],
          "name": "stdout"
        }
      ]
    },
    {
      "cell_type": "markdown",
      "metadata": {
        "id": "U3O-lLd2Yxh6",
        "colab_type": "text"
      },
      "source": [
        "#### Variance \n",
        "\n",
        "This is the measure of how far a set of numbers are spread out from their average value."
      ]
    },
    {
      "cell_type": "code",
      "metadata": {
        "id": "egutBqaFXhbV",
        "colab_type": "code",
        "colab": {
          "base_uri": "https://localhost:8080/",
          "height": 34
        },
        "outputId": "876af330-fac9-4ab7-a54b-0fb90a5b6112"
      },
      "source": [
        "# find the variance for age\n",
        "va_data <- var(data$age)\n",
        "print(va_data)"
      ],
      "execution_count": 93,
      "outputs": [
        {
          "output_type": "stream",
          "text": [
            "[1] 77.18611\n"
          ],
          "name": "stdout"
        }
      ]
    },
    {
      "cell_type": "code",
      "metadata": {
        "id": "Q1AEl6R5YNMu",
        "colab_type": "code",
        "colab": {
          "base_uri": "https://localhost:8080/",
          "height": 34
        },
        "outputId": "72d1f018-7b38-4391-9771-d0dd193af42f"
      },
      "source": [
        "# find the variance for the area income\n",
        "va_data <- var(data$area_income)\n",
        "print(va_data)"
      ],
      "execution_count": 95,
      "outputs": [
        {
          "output_type": "stream",
          "text": [
            "[1] 179952406\n"
          ],
          "name": "stdout"
        }
      ]
    },
    {
      "cell_type": "code",
      "metadata": {
        "id": "OxDtd9FNYWH_",
        "colab_type": "code",
        "colab": {
          "base_uri": "https://localhost:8080/",
          "height": 34
        },
        "outputId": "02ee5aaf-fa4a-48c2-9094-395671924bbd"
      },
      "source": [
        "# find the variance for clicked on ad\n",
        "va_data <- var(data$clicked_on_ad)\n",
        "print(va_data)"
      ],
      "execution_count": 96,
      "outputs": [
        {
          "output_type": "stream",
          "text": [
            "[1] 0.2502503\n"
          ],
          "name": "stdout"
        }
      ]
    },
    {
      "cell_type": "code",
      "metadata": {
        "id": "DSGkb8X5YbXo",
        "colab_type": "code",
        "colab": {
          "base_uri": "https://localhost:8080/",
          "height": 34
        },
        "outputId": "2a147929-d250-40f5-d8e7-13f917c1fa2b"
      },
      "source": [
        "# find the variance for daily internet usage\n",
        "va_data <- var(data$daily_internet_usage)\n",
        "print(va_data)"
      ],
      "execution_count": 97,
      "outputs": [
        {
          "output_type": "stream",
          "text": [
            "[1] 1927.415\n"
          ],
          "name": "stdout"
        }
      ]
    },
    {
      "cell_type": "code",
      "metadata": {
        "id": "xH6eOvBAYfpN",
        "colab_type": "code",
        "colab": {
          "base_uri": "https://localhost:8080/",
          "height": 34
        },
        "outputId": "b1255821-5db3-4220-f65f-5a2820a81a84"
      },
      "source": [
        "# find the variance for daily time spent on site\n",
        "va_data <- var(data$daily_time_spent_on_site)\n",
        "print(va_data)"
      ],
      "execution_count": 98,
      "outputs": [
        {
          "output_type": "stream",
          "text": [
            "[1] 251.3371\n"
          ],
          "name": "stdout"
        }
      ]
    },
    {
      "cell_type": "code",
      "metadata": {
        "id": "GIBZmMLmYl11",
        "colab_type": "code",
        "colab": {
          "base_uri": "https://localhost:8080/",
          "height": 34
        },
        "outputId": "4e547820-6c8d-434c-d1fb-77c4a55001e2"
      },
      "source": [
        "# find the variance for gender\n",
        "va_data <- var(data$male)\n",
        "print(va_data)"
      ],
      "execution_count": 99,
      "outputs": [
        {
          "output_type": "stream",
          "text": [
            "[1] 0.2498889\n"
          ],
          "name": "stdout"
        }
      ]
    },
    {
      "cell_type": "markdown",
      "metadata": {
        "id": "g6EZJ-zcY8r4",
        "colab_type": "text"
      },
      "source": [
        "#### Standard Deviation \n",
        "\n",
        "This is the square root of the variance.\n"
      ]
    },
    {
      "cell_type": "code",
      "metadata": {
        "colab_type": "code",
        "id": "k3E775c2ZIiM",
        "colab": {
          "base_uri": "https://localhost:8080/",
          "height": 34
        },
        "outputId": "80c008e8-701e-4823-be90-b94620af3d22"
      },
      "source": [
        "# find the standard deviation for age\n",
        "std_data_age <- sd(data$age)\n",
        "print(std_data_age)"
      ],
      "execution_count": 101,
      "outputs": [
        {
          "output_type": "stream",
          "text": [
            "[1] 8.785562\n"
          ],
          "name": "stdout"
        }
      ]
    },
    {
      "cell_type": "code",
      "metadata": {
        "colab_type": "code",
        "id": "o4Ju9sH0ZIio",
        "colab": {
          "base_uri": "https://localhost:8080/",
          "height": 34
        },
        "outputId": "3da91039-4f97-4601-a2b8-7cae25c086e0"
      },
      "source": [
        "# find the standard deviation for the area income\n",
        "std_data_income <- sd(data$area_income)\n",
        "print(std_data_income)"
      ],
      "execution_count": 102,
      "outputs": [
        {
          "output_type": "stream",
          "text": [
            "[1] 13414.63\n"
          ],
          "name": "stdout"
        }
      ]
    },
    {
      "cell_type": "code",
      "metadata": {
        "colab_type": "code",
        "id": "_YXj4OKgZIi2",
        "colab": {
          "base_uri": "https://localhost:8080/",
          "height": 34
        },
        "outputId": "74902e0e-2c1d-4b72-e749-0db02b967359"
      },
      "source": [
        "# find the standard deviation for clicked on ad\n",
        "std_data_click <- sd(data$clicked_on_ad)\n",
        "print(std_data_click)"
      ],
      "execution_count": 103,
      "outputs": [
        {
          "output_type": "stream",
          "text": [
            "[1] 0.5002502\n"
          ],
          "name": "stdout"
        }
      ]
    },
    {
      "cell_type": "code",
      "metadata": {
        "colab_type": "code",
        "id": "G0lNRNPnZIi_",
        "colab": {
          "base_uri": "https://localhost:8080/",
          "height": 34
        },
        "outputId": "64c493b6-da83-4645-d4e9-4fe1245adae0"
      },
      "source": [
        "# find the standard deviation for daily internet usage\n",
        "std_data_usage <- sd(data$daily_internet_usage)\n",
        "print(std_data_usage)"
      ],
      "execution_count": 104,
      "outputs": [
        {
          "output_type": "stream",
          "text": [
            "[1] 43.90234\n"
          ],
          "name": "stdout"
        }
      ]
    },
    {
      "cell_type": "code",
      "metadata": {
        "colab_type": "code",
        "id": "mFMdA4FVZIjK",
        "colab": {
          "base_uri": "https://localhost:8080/",
          "height": 34
        },
        "outputId": "42a771cc-a748-48ba-e1af-555dc6973875"
      },
      "source": [
        "# find the standard deviation for daily time spent on site\n",
        "std_data_time <- sd(data$daily_time_spent_on_site)\n",
        "print(std_data_time)"
      ],
      "execution_count": 105,
      "outputs": [
        {
          "output_type": "stream",
          "text": [
            "[1] 15.85361\n"
          ],
          "name": "stdout"
        }
      ]
    },
    {
      "cell_type": "code",
      "metadata": {
        "colab_type": "code",
        "id": "K3qDH6_XZIjS",
        "colab": {
          "base_uri": "https://localhost:8080/",
          "height": 34
        },
        "outputId": "b2a871f6-8f22-46b5-91b6-6d9bbdf6e777"
      },
      "source": [
        "# find the standard deviation for gender\n",
        "std_data_gender <- sd(data$male)\n",
        "print(std_data_gender)"
      ],
      "execution_count": 106,
      "outputs": [
        {
          "output_type": "stream",
          "text": [
            "[1] 0.4998889\n"
          ],
          "name": "stdout"
        }
      ]
    },
    {
      "cell_type": "markdown",
      "metadata": {
        "id": "nP0OzNdYSz6R",
        "colab_type": "text"
      },
      "source": [
        "### b. Bivariate analysis"
      ]
    },
    {
      "cell_type": "code",
      "metadata": {
        "id": "_ry8QXjkS5Sb",
        "colab_type": "code",
        "colab": {}
      },
      "source": [
        ""
      ],
      "execution_count": null,
      "outputs": []
    },
    {
      "cell_type": "markdown",
      "metadata": {
        "id": "ynfdNVnvS5rh",
        "colab_type": "text"
      },
      "source": [
        "### c. Multivariate analysis"
      ]
    },
    {
      "cell_type": "code",
      "metadata": {
        "id": "Ieytg8iKS-4S",
        "colab_type": "code",
        "colab": {}
      },
      "source": [
        ""
      ],
      "execution_count": null,
      "outputs": []
    },
    {
      "cell_type": "markdown",
      "metadata": {
        "id": "pwRN8AquAIKE",
        "colab_type": "text"
      },
      "source": [
        "## 5. Solution"
      ]
    },
    {
      "cell_type": "markdown",
      "metadata": {
        "id": "LhPWLMAIALEu",
        "colab_type": "text"
      },
      "source": [
        "## 6. Challenge the solution"
      ]
    },
    {
      "cell_type": "markdown",
      "metadata": {
        "id": "CC3jaidtANtA",
        "colab_type": "text"
      },
      "source": [
        "## 7. Conclusion"
      ]
    },
    {
      "cell_type": "markdown",
      "metadata": {
        "id": "N3yMYxWAARgD",
        "colab_type": "text"
      },
      "source": [
        "## 8. Recommendation"
      ]
    },
    {
      "cell_type": "markdown",
      "metadata": {
        "id": "moMYAgLMAUGB",
        "colab_type": "text"
      },
      "source": [
        "## 9. Follow up questions"
      ]
    }
  ]
}